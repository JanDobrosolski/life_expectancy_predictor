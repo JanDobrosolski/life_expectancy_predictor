{
  "nbformat": 4,
  "nbformat_minor": 0,
  "metadata": {
    "colab": {
      "provenance": [],
      "collapsed_sections": []
    },
    "kernelspec": {
      "name": "python3",
      "display_name": "Python 3"
    },
    "language_info": {
      "name": "python"
    }
  },
  "cells": [
    {
      "cell_type": "code",
      "execution_count": 1,
      "metadata": {
        "id": "2x1YVhyP4Hwv"
      },
      "outputs": [],
      "source": [
        "import pandas as pd\n",
        "import numpy as np\n",
        "import csv\n",
        "import tensorflow as tf\n",
        "from tensorflow import keras\n",
        "from tensorflow.keras import layers\n",
        "import matplotlib.pyplot as plt"
      ]
    },
    {
      "cell_type": "code",
      "source": [
        "from google.colab import drive\n",
        "drive.mount('/content/drive')"
      ],
      "metadata": {
        "colab": {
          "base_uri": "https://localhost:8080/"
        },
        "id": "6a-N-vblUTAh",
        "outputId": "8381fae9-22ab-4025-c0fd-3e7f675a4e90"
      },
      "execution_count": 2,
      "outputs": [
        {
          "output_type": "stream",
          "name": "stdout",
          "text": [
            "Drive already mounted at /content/drive; to attempt to forcibly remount, call drive.mount(\"/content/drive\", force_remount=True).\n"
          ]
        }
      ]
    },
    {
      "cell_type": "code",
      "source": [
        "#loading data tables filtered and downloaded at from GHO data repository\n",
        "life_exp_2000 = pd.read_xml(\"/content/drive/MyDrive/life_expectancy_data/life_expectancy_2000.xml\")\n",
        "bmi_2000 = pd.read_xml(\"/content/drive/MyDrive/life_expectancy_data/bmi_2000.xml\")\n",
        "blood_pressure_2000 = pd.read_xml(\"/content/drive/MyDrive/life_expectancy_data/blood_pressure_2000.xml\")\n",
        "glucose_2000 = pd.read_xml(\"/content/drive/MyDrive/life_expectancy_data/glucose_2000.xml\")\n",
        "cholesterol_2000 = pd.read_xml(\"/content/drive/MyDrive/life_expectancy_data/cholesterol_2000.xml\")"
      ],
      "metadata": {
        "id": "wx_daeq57RHN"
      },
      "execution_count": 3,
      "outputs": []
    },
    {
      "cell_type": "code",
      "source": [
        "#loading data tables filtered and downloaded at from GHO data repository\n",
        "life_exp_2010 = pd.read_xml(\"/content/drive/MyDrive/life_expectancy_data/life_expectancy_2010.xml\")\n",
        "bmi_2010 = pd.read_xml(\"/content/drive/MyDrive/life_expectancy_data/bmi_2010.xml\")\n",
        "blood_pressure_2010 = pd.read_xml(\"/content/drive/MyDrive/life_expectancy_data/blood_pressure_2010.xml\")\n",
        "glucose_2010 = pd.read_xml(\"/content/drive/MyDrive/life_expectancy_data/glucose_2010.xml\")\n",
        "cholesterol_2010 = pd.read_xml(\"/content/drive/MyDrive/life_expectancy_data/cholesterol_2010.xml\")"
      ],
      "metadata": {
        "id": "tD4bzosHB4IZ"
      },
      "execution_count": 4,
      "outputs": []
    },
    {
      "cell_type": "code",
      "source": [
        "#loading data tables filtered and downloaded at from GHO data repository\n",
        "life_exp_2015 = pd.read_xml(\"/content/drive/MyDrive/life_expectancy_data/life_expectancy_2015.xml\")\n",
        "bmi_2015 = pd.read_xml(\"/content/drive/MyDrive/life_expectancy_data/bmi_2015.xml\")\n",
        "blood_pressure_2015 = pd.read_xml(\"/content/drive/MyDrive/life_expectancy_data/blood_pressure_2015.xml\")\n",
        "glucose_2015 = pd.read_xml(\"/content/drive/MyDrive/life_expectancy_data/glucose_2015.xml\")\n",
        "cholesterol_2015 = pd.read_xml(\"/content/drive/MyDrive/life_expectancy_data/cholesterol_2015.xml\")"
      ],
      "metadata": {
        "id": "CqCk5iz5B-YX"
      },
      "execution_count": 5,
      "outputs": []
    },
    {
      "cell_type": "code",
      "source": [
        "life_exp_2000.loc[life_exp_2000[\"SEX\"] == \"Male\", \"SEX\"] = 0\n",
        "life_exp_2000.loc[life_exp_2000[\"SEX\"] == \"Female\", \"SEX\"] = 1\n",
        "\n",
        "bmi_2000.loc[bmi_2000[\"SEX\"] == \"Male\", \"SEX\"] = 0\n",
        "bmi_2000.loc[bmi_2000[\"SEX\"] == \"Female\", \"SEX\"] = 1\n",
        "\n",
        "blood_pressure_2000.loc[blood_pressure_2000[\"SEX\"] == \"Male\", \"SEX\"] = 0\n",
        "blood_pressure_2000.loc[blood_pressure_2000[\"SEX\"] == \"Female\", \"SEX\"] = 1\n",
        "\n",
        "glucose_2000.loc[glucose_2000[\"SEX\"] == \"Male\", \"SEX\"] = 0\n",
        "glucose_2000.loc[glucose_2000[\"SEX\"] == \"Female\", \"SEX\"] = 1\n",
        "\n",
        "cholesterol_2000.loc[cholesterol_2000[\"SEX\"] == \"Male\", \"SEX\"] = 0\n",
        "cholesterol_2000.loc[cholesterol_2000[\"SEX\"] == \"Female\", \"SEX\"] = 1"
      ],
      "metadata": {
        "id": "xUKrUP6C9EpD"
      },
      "execution_count": 6,
      "outputs": []
    },
    {
      "cell_type": "code",
      "source": [
        "life_exp_2010.loc[life_exp_2010[\"SEX\"] == \"Male\", \"SEX\"] = 0\n",
        "life_exp_2010.loc[life_exp_2010[\"SEX\"] == \"Female\", \"SEX\"] = 1\n",
        "\n",
        "bmi_2010.loc[bmi_2010[\"SEX\"] == \"Male\", \"SEX\"] = 0\n",
        "bmi_2010.loc[bmi_2010[\"SEX\"] == \"Female\", \"SEX\"] = 1\n",
        "\n",
        "blood_pressure_2010.loc[blood_pressure_2010[\"SEX\"] == \"Male\", \"SEX\"] = 0\n",
        "blood_pressure_2010.loc[blood_pressure_2010[\"SEX\"] == \"Female\", \"SEX\"] = 1\n",
        "\n",
        "glucose_2010.loc[glucose_2010[\"SEX\"] == \"Male\", \"SEX\"] = 0\n",
        "glucose_2010.loc[glucose_2010[\"SEX\"] == \"Female\", \"SEX\"] = 1\n",
        "\n",
        "cholesterol_2010.loc[cholesterol_2010[\"SEX\"] == \"Male\", \"SEX\"] = 0\n",
        "cholesterol_2010.loc[cholesterol_2010[\"SEX\"] == \"Female\", \"SEX\"] = 1"
      ],
      "metadata": {
        "id": "hgnjveIrCbfr"
      },
      "execution_count": 7,
      "outputs": []
    },
    {
      "cell_type": "code",
      "source": [
        "life_exp_2015.loc[life_exp_2015[\"SEX\"] == \"Male\", \"SEX\"] = 0\n",
        "life_exp_2015.loc[life_exp_2015[\"SEX\"] == \"Female\", \"SEX\"] = 1\n",
        "\n",
        "bmi_2015.loc[bmi_2015[\"SEX\"] == \"Male\", \"SEX\"] = 0\n",
        "bmi_2015.loc[bmi_2015[\"SEX\"] == \"Female\", \"SEX\"] = 1\n",
        "\n",
        "blood_pressure_2015.loc[blood_pressure_2015[\"SEX\"] == \"Male\", \"SEX\"] = 0\n",
        "blood_pressure_2015.loc[blood_pressure_2015[\"SEX\"] == \"Female\", \"SEX\"] = 1\n",
        "\n",
        "glucose_2015.loc[glucose_2015[\"SEX\"] == \"Male\", \"SEX\"] = 0\n",
        "glucose_2015.loc[glucose_2015[\"SEX\"] == \"Female\", \"SEX\"] = 1\n",
        "\n",
        "cholesterol_2015.loc[cholesterol_2015[\"SEX\"] == \"Male\", \"SEX\"] = 0\n",
        "cholesterol_2015.loc[cholesterol_2015[\"SEX\"] == \"Female\", \"SEX\"] = 1"
      ],
      "metadata": {
        "id": "ea_So9nZC_8o"
      },
      "execution_count": 8,
      "outputs": []
    },
    {
      "cell_type": "code",
      "source": [
        "life_exp_2000 = life_exp_2000.drop(columns=[\"GHO\", \"YEAR\"])\n",
        "life_exp_2000[\"Display\"] = life_exp_2000[\"Display\"].astype(float)\n",
        "life_exp_2000.rename(columns = {\"Display\" : \"Life_expectancy\"}, inplace = True)\n",
        "\n",
        "bmi_2000 = bmi_2000.drop(columns = [\"GHO\", \"AGEGROUP\", \"YEAR\", \"Note\"])\n",
        "bmi_2000.fillna(method = \"bfill\", inplace = True)\n",
        "bmi_2000[\"Display\"] = bmi_2000[\"Display\"].astype(str)\n",
        "for i in range(len(bmi_2000)):\n",
        "  bmi_2000[\"Display\"][i] = bmi_2000[\"Display\"][i].split(\" \")[0]\n",
        "bmi_2000[\"Display\"] = bmi_2000[\"Display\"].astype(float)\n",
        "bmi_2000.rename(columns = {\"Display\" : \"BMI\"}, inplace = True)\n",
        "\n",
        "blood_pressure_2000 = blood_pressure_2000.drop(columns = [\"GHO\", \"AGEGROUP\", \"YEAR\", \"Note\"])\n",
        "blood_pressure_2000.fillna(method = \"bfill\", inplace = True)\n",
        "blood_pressure_2000[\"Display\"] = blood_pressure_2000[\"Display\"].astype(str)\n",
        "for i in range(len(blood_pressure_2000)):\n",
        "  blood_pressure_2000[\"Display\"][i] = blood_pressure_2000[\"Display\"][i].split(\" \")[0]\n",
        "blood_pressure_2000[\"Display\"] = blood_pressure_2000[\"Display\"].astype(float)\n",
        "blood_pressure_2000.rename(columns = {\"Display\" : \"Blood_pressure\"}, inplace = True)\n",
        "\n",
        "glucose_2000 = glucose_2000.drop(columns = [\"GHO\", \"YEAR\"])\n",
        "for i in range(len(glucose_2000)):\n",
        "  glucose_2000[\"Display\"][i] = glucose_2000[\"Display\"][i].split(\" \")[0]\n",
        "glucose_2000[\"Display\"] = glucose_2000[\"Display\"].astype(float)\n",
        "glucose_2000.rename(columns = {\"Display\" : \"Glucose\"}, inplace = True)\n",
        "\n",
        "cholesterol_2000 = cholesterol_2000.drop(columns = [\"GHO\", \"YEAR\"])\n",
        "for i in range(len(cholesterol_2000)):\n",
        "  cholesterol_2000[\"Display\"][i] = cholesterol_2000[\"Display\"][i].split(\" \")[0]\n",
        "cholesterol_2000[\"Display\"] = cholesterol_2000[\"Display\"].astype(float)\n",
        "cholesterol_2000.rename(columns = {\"Display\" : \"Cholesterol\"}, inplace = True)"
      ],
      "metadata": {
        "id": "-2Ihw2m1GrJ-"
      },
      "execution_count": null,
      "outputs": []
    },
    {
      "cell_type": "code",
      "source": [
        "life_exp_2010 = life_exp_2010.drop(columns=[\"GHO\", \"YEAR\"])\n",
        "life_exp_2010[\"Display\"] = life_exp_2010[\"Display\"].astype(float)\n",
        "life_exp_2010.rename(columns = {\"Display\" : \"Life_expectancy\"}, inplace = True)\n",
        "\n",
        "bmi_2010 = bmi_2010.drop(columns = [\"GHO\", \"AGEGROUP\", \"Note\", \"YEAR\"])\n",
        "bmi_2010.fillna(method = \"bfill\", inplace = True)\n",
        "bmi_2010[\"Display\"] = bmi_2010[\"Display\"].astype(str)\n",
        "for i in range(len(bmi_2010)):\n",
        "  bmi_2010[\"Display\"][i] = bmi_2010[\"Display\"][i].split(\" \")[0]\n",
        "bmi_2010[\"Display\"] = bmi_2010[\"Display\"].astype(float)\n",
        "bmi_2010.rename(columns = {\"Display\" : \"BMI\"}, inplace = True)\n",
        "\n",
        "blood_pressure_2010 = blood_pressure_2010.drop(columns = [\"GHO\", \"AGEGROUP\", \"Note\", \"YEAR\"])\n",
        "blood_pressure_2010.fillna(method = \"bfill\", inplace = True)\n",
        "blood_pressure_2010[\"Display\"] = blood_pressure_2010[\"Display\"].astype(str)\n",
        "for i in range(len(blood_pressure_2010)):\n",
        "  blood_pressure_2010[\"Display\"][i] = blood_pressure_2010[\"Display\"][i].split(\" \")[0]\n",
        "blood_pressure_2010[\"Display\"] = blood_pressure_2010[\"Display\"].astype(float)\n",
        "blood_pressure_2010.rename(columns = {\"Display\" : \"Blood_pressure\"}, inplace = True)\n",
        "\n",
        "glucose_2010 = glucose_2010.drop(columns = [\"GHO\", \"YEAR\"])\n",
        "for i in range(len(glucose_2010)):\n",
        "  glucose_2010[\"Display\"][i] = glucose_2010[\"Display\"][i].split(\" \")[0]\n",
        "glucose_2010[\"Display\"] = glucose_2010[\"Display\"].astype(float)\n",
        "glucose_2010.rename(columns = {\"Display\" : \"Glucose\"}, inplace = True)\n",
        "\n",
        "cholesterol_2010 = cholesterol_2010.drop(columns = [\"GHO\", \"YEAR\"])\n",
        "for i in range(len(cholesterol_2010)):\n",
        "  cholesterol_2010[\"Display\"][i] = cholesterol_2010[\"Display\"][i].split(\" \")[0]\n",
        "cholesterol_2010[\"Display\"] = cholesterol_2010[\"Display\"].astype(float)\n",
        "cholesterol_2010.rename(columns = {\"Display\" : \"Cholesterol\"}, inplace = True)"
      ],
      "metadata": {
        "id": "GI0qwBzYP9pW"
      },
      "execution_count": null,
      "outputs": []
    },
    {
      "cell_type": "code",
      "source": [
        "life_exp_2015 = life_exp_2015.drop(columns=[\"GHO\", \"YEAR\"])\n",
        "life_exp_2015[\"Display\"] = life_exp_2015[\"Display\"].astype(float)\n",
        "life_exp_2015.rename(columns = {\"Display\" : \"Life_expectancy\"}, inplace = True)\n",
        "\n",
        "bmi_2015 = bmi_2015.drop(columns = [\"GHO\", \"AGEGROUP\", \"Note\", \"YEAR\"])\n",
        "bmi_2015.fillna(method = \"bfill\", inplace = True)\n",
        "bmi_2015[\"Display\"] = bmi_2015[\"Display\"].astype(str)\n",
        "for i in range(len(bmi_2015)):\n",
        "  bmi_2015[\"Display\"][i] = bmi_2015[\"Display\"][i].split(\" \")[0]\n",
        "bmi_2015[\"Display\"] = bmi_2015[\"Display\"].astype(float)\n",
        "bmi_2015.rename(columns = {\"Display\" : \"BMI\"}, inplace = True)\n",
        "\n",
        "blood_pressure_2015 = blood_pressure_2015.drop(columns = [\"GHO\", \"AGEGROUP\", \"Note\", \"YEAR\"])\n",
        "blood_pressure_2015.fillna(method = \"bfill\", inplace = True)\n",
        "blood_pressure_2015[\"Display\"] = blood_pressure_2015[\"Display\"].astype(str)\n",
        "for i in range(len(blood_pressure_2015)):\n",
        "  blood_pressure_2015[\"Display\"][i] = blood_pressure_2015[\"Display\"][i].split(\" \")[0]\n",
        "blood_pressure_2015[\"Display\"] = blood_pressure_2015[\"Display\"].astype(float)\n",
        "blood_pressure_2015.rename(columns = {\"Display\" : \"Blood_pressure\"}, inplace = True)\n",
        "\n",
        "glucose_2015 = glucose_2015.drop(columns = [\"GHO\", \"YEAR\"])\n",
        "for i in range(len(glucose_2015)):\n",
        "  glucose_2015[\"Display\"][i] = glucose_2015[\"Display\"][i].split(\" \")[0]\n",
        "glucose_2015[\"Display\"] = glucose_2015[\"Display\"].astype(float)\n",
        "glucose_2015.rename(columns = {\"Display\" : \"Glucose\"}, inplace = True)\n",
        "\n",
        "cholesterol_2015 = cholesterol_2015.drop(columns = [\"GHO\", \"YEAR\"])\n",
        "for i in range(len(cholesterol_2015)):\n",
        "  cholesterol_2015[\"Display\"][i] = cholesterol_2015[\"Display\"][i].split(\" \")[0]\n",
        "cholesterol_2015[\"Display\"] = cholesterol_2015[\"Display\"].astype(float)\n",
        "cholesterol_2015.rename(columns = {\"Display\" : \"Cholesterol\"}, inplace = True)"
      ],
      "metadata": {
        "id": "n9mqCSnTP-MI"
      },
      "execution_count": null,
      "outputs": []
    },
    {
      "cell_type": "code",
      "source": [
        "dfs_2000 = [blood_pressure_2000, bmi_2000, cholesterol_2000, glucose_2000]\n",
        "\n",
        "for i in range(len(dfs_2000)):\n",
        "  life_exp_2000 = life_exp_2000.merge(dfs_2000[i], on = [\"COUNTRY\", \"SEX\"])\n",
        "life_exp_2000 = life_exp_2000.drop(columns = [\"COUNTRY\"])\n"
      ],
      "metadata": {
        "id": "dEhwQxK-Xjrw"
      },
      "execution_count": 12,
      "outputs": []
    },
    {
      "cell_type": "code",
      "source": [
        "dfs_2010 = [blood_pressure_2010, bmi_2010, cholesterol_2010, glucose_2010]\n",
        "\n",
        "for i in range(len(dfs_2010)):\n",
        "  life_exp_2010 = life_exp_2010.merge(dfs_2010[i], on = [\"COUNTRY\", \"SEX\"])\n",
        "life_exp_2010 = life_exp_2010.drop(columns = [\"COUNTRY\"])\n"
      ],
      "metadata": {
        "id": "eO8JCzsZRxcK"
      },
      "execution_count": 13,
      "outputs": []
    },
    {
      "cell_type": "code",
      "source": [
        "dfs_2015 = [blood_pressure_2015, bmi_2015, cholesterol_2015, glucose_2015]\n",
        "\n",
        "for i in range(len(dfs_2015)):\n",
        "  life_exp_2015 = life_exp_2015.merge(dfs_2015[i], on = [\"COUNTRY\", \"SEX\"])\n",
        "life_exp_2015 = life_exp_2015.drop(columns = [\"COUNTRY\"])\n"
      ],
      "metadata": {
        "id": "b50QOzVDR4lA"
      },
      "execution_count": 14,
      "outputs": []
    },
    {
      "cell_type": "code",
      "source": [
        "dfs = [life_exp_2000, life_exp_2010, life_exp_2015]\n",
        "\n",
        "df = pd.concat(dfs)\n",
        "df.reset_index(inplace = True)\n",
        "df = df.drop(columns = \"index\")"
      ],
      "metadata": {
        "id": "qDyELvrJSR-D"
      },
      "execution_count": 46,
      "outputs": []
    },
    {
      "cell_type": "code",
      "source": [
        "df[\"SEX\"] = df[\"SEX\"].astype(float)\n",
        "df[\"Life_expectancy\"] = df[\"Life_expectancy\"].astype(float)\n",
        "df[\"Blood_pressure\"] = df[\"Blood_pressure\"].astype(float)\n",
        "df[\"BMI\"] = df[\"BMI\"].astype(float)\n",
        "df[\"Glucose\"] = df[\"Glucose\"].astype(float)\n",
        "print(df)"
      ],
      "metadata": {
        "colab": {
          "base_uri": "https://localhost:8080/"
        },
        "id": "OiTHc6yd7hKR",
        "outputId": "2de52bd0-8aa8-43f9-fa9a-45f376c57e36"
      },
      "execution_count": 47,
      "outputs": [
        {
          "output_type": "stream",
          "name": "stdout",
          "text": [
            "      SEX  Life_expectancy  Blood_pressure   BMI  Cholesterol  Glucose\n",
            "0     0.0             54.6           124.8  21.1          4.2     5.13\n",
            "1     1.0             55.4           123.0  21.9          4.2     4.95\n",
            "2     0.0             70.7           132.3  25.3          5.0     4.97\n",
            "3     1.0             76.9           128.5  24.8          5.0     4.86\n",
            "4     0.0             70.9           127.5  23.2          4.3     5.31\n",
            "...   ...              ...             ...   ...          ...      ...\n",
            "1087  1.0             69.6           126.4  23.5          4.5     5.36\n",
            "1088  0.0             57.9           132.2  20.9          3.7     5.09\n",
            "1089  1.0             63.0           130.0  23.3          4.0     5.11\n",
            "1090  0.0             55.7           127.6  21.9          3.8     5.02\n",
            "1091  1.0             61.0           128.7  24.7          4.0     5.14\n",
            "\n",
            "[1092 rows x 6 columns]\n"
          ]
        }
      ]
    },
    {
      "cell_type": "code",
      "source": [
        "column_names = [df.columns]\n",
        "\n",
        "train = df.sample(frac = 0.8, random_state = 4)\n",
        "test = df.drop(train.index)\n",
        "\n",
        "train_features = train.copy()\n",
        "test_features = test.copy()\n",
        "\n",
        "train_labels = train_features.pop(\"Life_expectancy\")\n",
        "test_labels = test_features.pop(\"Life_expectancy\")\n",
        "\n",
        "train_features = train_features.astype(float)\n",
        "test_features = test_features.astype(float)"
      ],
      "metadata": {
        "id": "sjuWzR1Dh887"
      },
      "execution_count": 48,
      "outputs": []
    },
    {
      "cell_type": "code",
      "source": [
        "normalizer = tf.keras.layers.Normalization(axis=-1)\n",
        "normalizer.adapt(np.array(train_features))\n",
        "\n",
        "linear_model = tf.keras.Sequential([\n",
        "    normalizer,\n",
        "    layers.Dense(units = 50, activation = \"relu\"),\n",
        "    layers.Dense(units = 1)\n",
        "])\n",
        "\n",
        "\n",
        "linear_model.compile(\n",
        "    optimizer=tf.keras.optimizers.Adam(learning_rate=0.1),\n",
        "    loss='mean_absolute_error')"
      ],
      "metadata": {
        "id": "nusW6iazoVYp"
      },
      "execution_count": 49,
      "outputs": []
    },
    {
      "cell_type": "code",
      "source": [
        "history = linear_model.fit(\n",
        "    train_features,\n",
        "    train_labels,\n",
        "    epochs = 50,\n",
        "    validation_split = 0.2\n",
        ")"
      ],
      "metadata": {
        "colab": {
          "base_uri": "https://localhost:8080/"
        },
        "id": "PTMvvcpGpZuc",
        "outputId": "c4bbcf9f-a481-491d-a345-cd6ece066ad0"
      },
      "execution_count": 50,
      "outputs": [
        {
          "output_type": "stream",
          "name": "stdout",
          "text": [
            "Epoch 1/50\n",
            "22/22 [==============================] - 1s 9ms/step - loss: 34.8425 - val_loss: 10.3468\n",
            "Epoch 2/50\n",
            "22/22 [==============================] - 0s 4ms/step - loss: 7.6315 - val_loss: 5.8899\n",
            "Epoch 3/50\n",
            "22/22 [==============================] - 0s 3ms/step - loss: 5.0085 - val_loss: 5.5101\n",
            "Epoch 4/50\n",
            "22/22 [==============================] - 0s 4ms/step - loss: 4.2619 - val_loss: 3.9437\n",
            "Epoch 5/50\n",
            "22/22 [==============================] - 0s 4ms/step - loss: 3.9800 - val_loss: 4.5006\n",
            "Epoch 6/50\n",
            "22/22 [==============================] - 0s 4ms/step - loss: 4.2344 - val_loss: 4.7245\n",
            "Epoch 7/50\n",
            "22/22 [==============================] - 0s 3ms/step - loss: 4.2738 - val_loss: 4.6806\n",
            "Epoch 8/50\n",
            "22/22 [==============================] - 0s 4ms/step - loss: 4.0495 - val_loss: 4.2309\n",
            "Epoch 9/50\n",
            "22/22 [==============================] - 0s 4ms/step - loss: 3.9847 - val_loss: 5.0495\n",
            "Epoch 10/50\n",
            "22/22 [==============================] - 0s 4ms/step - loss: 4.2938 - val_loss: 4.5560\n",
            "Epoch 11/50\n",
            "22/22 [==============================] - 0s 4ms/step - loss: 4.9235 - val_loss: 4.4695\n",
            "Epoch 12/50\n",
            "22/22 [==============================] - 0s 4ms/step - loss: 3.9596 - val_loss: 4.2553\n",
            "Epoch 13/50\n",
            "22/22 [==============================] - 0s 3ms/step - loss: 3.9798 - val_loss: 3.9726\n",
            "Epoch 14/50\n",
            "22/22 [==============================] - 0s 3ms/step - loss: 3.9016 - val_loss: 5.1646\n",
            "Epoch 15/50\n",
            "22/22 [==============================] - 0s 3ms/step - loss: 4.4270 - val_loss: 4.1621\n",
            "Epoch 16/50\n",
            "22/22 [==============================] - 0s 3ms/step - loss: 4.2853 - val_loss: 4.8447\n",
            "Epoch 17/50\n",
            "22/22 [==============================] - 0s 4ms/step - loss: 4.7501 - val_loss: 4.4667\n",
            "Epoch 18/50\n",
            "22/22 [==============================] - 0s 3ms/step - loss: 3.9361 - val_loss: 4.1344\n",
            "Epoch 19/50\n",
            "22/22 [==============================] - 0s 3ms/step - loss: 3.9842 - val_loss: 4.1002\n",
            "Epoch 20/50\n",
            "22/22 [==============================] - 0s 5ms/step - loss: 3.9114 - val_loss: 3.9353\n",
            "Epoch 21/50\n",
            "22/22 [==============================] - 0s 3ms/step - loss: 3.9148 - val_loss: 4.6621\n",
            "Epoch 22/50\n",
            "22/22 [==============================] - 0s 4ms/step - loss: 4.7135 - val_loss: 4.7625\n",
            "Epoch 23/50\n",
            "22/22 [==============================] - 0s 4ms/step - loss: 4.4513 - val_loss: 5.3638\n",
            "Epoch 24/50\n",
            "22/22 [==============================] - 0s 3ms/step - loss: 4.1381 - val_loss: 4.7144\n",
            "Epoch 25/50\n",
            "22/22 [==============================] - 0s 4ms/step - loss: 3.8521 - val_loss: 4.1785\n",
            "Epoch 26/50\n",
            "22/22 [==============================] - 0s 3ms/step - loss: 4.0593 - val_loss: 4.3430\n",
            "Epoch 27/50\n",
            "22/22 [==============================] - 0s 4ms/step - loss: 4.1745 - val_loss: 4.7748\n",
            "Epoch 28/50\n",
            "22/22 [==============================] - 0s 4ms/step - loss: 3.8243 - val_loss: 3.9572\n",
            "Epoch 29/50\n",
            "22/22 [==============================] - 0s 3ms/step - loss: 3.8089 - val_loss: 4.5610\n",
            "Epoch 30/50\n",
            "22/22 [==============================] - 0s 3ms/step - loss: 4.3290 - val_loss: 3.7732\n",
            "Epoch 31/50\n",
            "22/22 [==============================] - 0s 4ms/step - loss: 3.7673 - val_loss: 3.7731\n",
            "Epoch 32/50\n",
            "22/22 [==============================] - 0s 4ms/step - loss: 3.8247 - val_loss: 4.3741\n",
            "Epoch 33/50\n",
            "22/22 [==============================] - 0s 4ms/step - loss: 3.7897 - val_loss: 4.6039\n",
            "Epoch 34/50\n",
            "22/22 [==============================] - 0s 4ms/step - loss: 4.1771 - val_loss: 4.9395\n",
            "Epoch 35/50\n",
            "22/22 [==============================] - 0s 4ms/step - loss: 4.3332 - val_loss: 3.8869\n",
            "Epoch 36/50\n",
            "22/22 [==============================] - 0s 3ms/step - loss: 4.0999 - val_loss: 3.9217\n",
            "Epoch 37/50\n",
            "22/22 [==============================] - 0s 3ms/step - loss: 3.9257 - val_loss: 4.2387\n",
            "Epoch 38/50\n",
            "22/22 [==============================] - 0s 5ms/step - loss: 4.0539 - val_loss: 4.5062\n",
            "Epoch 39/50\n",
            "22/22 [==============================] - 0s 4ms/step - loss: 3.8656 - val_loss: 3.8274\n",
            "Epoch 40/50\n",
            "22/22 [==============================] - 0s 4ms/step - loss: 3.7196 - val_loss: 4.4824\n",
            "Epoch 41/50\n",
            "22/22 [==============================] - 0s 4ms/step - loss: 3.9534 - val_loss: 3.9801\n",
            "Epoch 42/50\n",
            "22/22 [==============================] - 0s 4ms/step - loss: 3.9497 - val_loss: 4.9132\n",
            "Epoch 43/50\n",
            "22/22 [==============================] - 0s 4ms/step - loss: 4.2937 - val_loss: 4.0809\n",
            "Epoch 44/50\n",
            "22/22 [==============================] - 0s 5ms/step - loss: 4.0062 - val_loss: 4.6027\n",
            "Epoch 45/50\n",
            "22/22 [==============================] - 0s 3ms/step - loss: 4.4255 - val_loss: 4.5969\n",
            "Epoch 46/50\n",
            "22/22 [==============================] - 0s 4ms/step - loss: 3.8754 - val_loss: 4.0853\n",
            "Epoch 47/50\n",
            "22/22 [==============================] - 0s 3ms/step - loss: 3.7774 - val_loss: 3.7476\n",
            "Epoch 48/50\n",
            "22/22 [==============================] - 0s 4ms/step - loss: 3.9486 - val_loss: 4.5236\n",
            "Epoch 49/50\n",
            "22/22 [==============================] - 0s 3ms/step - loss: 3.9678 - val_loss: 3.9921\n",
            "Epoch 50/50\n",
            "22/22 [==============================] - 0s 4ms/step - loss: 3.6220 - val_loss: 4.0572\n"
          ]
        }
      ]
    },
    {
      "cell_type": "code",
      "source": [
        "test_results = linear_model.evaluate(test_features, test_labels)"
      ],
      "metadata": {
        "colab": {
          "base_uri": "https://localhost:8080/"
        },
        "id": "6d5tYU8Tp8DS",
        "outputId": "3969ba74-c8b4-4366-dfe3-5b68f420080e"
      },
      "execution_count": 51,
      "outputs": [
        {
          "output_type": "stream",
          "name": "stdout",
          "text": [
            "7/7 [==============================] - 0s 2ms/step - loss: 3.8008\n"
          ]
        }
      ]
    },
    {
      "cell_type": "code",
      "source": [
        "def plot_loss(history):\n",
        "  plt.plot(history.history['loss'], label='loss')\n",
        "  plt.plot(history.history['val_loss'], label='val_loss')\n",
        "  plt.ylim([0, 10])\n",
        "  plt.xlabel('Epoch')\n",
        "  plt.ylabel('Error [life_expectancy]')\n",
        "  plt.legend()\n",
        "  plt.grid(True)\n",
        "\n",
        "plot_loss(history)"
      ],
      "metadata": {
        "colab": {
          "base_uri": "https://localhost:8080/",
          "height": 283
        },
        "id": "ZXOmJNUkb_ka",
        "outputId": "a914bfe0-cecd-42e7-982b-19f3d46be4f3"
      },
      "execution_count": 52,
      "outputs": [
        {
          "output_type": "display_data",
          "data": {
            "text/plain": [
              "<Figure size 432x288 with 1 Axes>"
            ],
            "image/png": "[encoded data removed]"
          },
          "metadata": {
            "needs_background": "light"
          }
        }
      ]
    },
    {
      "cell_type": "code",
      "source": [
        "input_array_1 = np.array([0.0, 124.8, 23.2, 4.5, 5.13])\n",
        "input_array_2 = np.array([1.0, 124.8, 23.2, 4.5, 5.13])\n",
        "input_array_3 = np.array([0.0, 132.8, 24.2, 4.1, 4.93])\n",
        "input_array_4 = np.array([1.0, 132.8, 24.2, 4.1, 4.93])\n",
        "\n",
        "predictions = [0,0,0,0]\n",
        "\n",
        "predictions[0] = linear_model.predict(input_array_1.reshape(1,5))\n",
        "predictions[1] = linear_model.predict(input_array_2.reshape(1,5))\n",
        "predictions[2] = linear_model.predict(input_array_3.reshape(1,5))\n",
        "predictions[3] = linear_model.predict(input_array_4.reshape(1,5))\n",
        "\n",
        "\n",
        "print(predictions)"
      ],
      "metadata": {
        "colab": {
          "base_uri": "https://localhost:8080/"
        },
        "id": "UBkoFuj-bqQS",
        "outputId": "327b2358-fe32-4797-f68c-e6197ba292ea"
      },
      "execution_count": 57,
      "outputs": [
        {
          "output_type": "stream",
          "name": "stdout",
          "text": [
            "[array([[65.7534]], dtype=float32), array([[69.591324]], dtype=float32), array([[62.27981]], dtype=float32), array([[65.24577]], dtype=float32)]\n"
          ]
        }
      ]
    }
  ]
}